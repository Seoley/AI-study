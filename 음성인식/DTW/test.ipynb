{
 "cells": [
  {
   "cell_type": "markdown",
   "metadata": {},
   "source": [
    "# Speech DTW 오픈소스 사용\n",
    "- https://github.com/pchao6/DTWSpeech"
   ]
  },
  {
   "cell_type": "markdown",
   "metadata": {},
   "source": [
    "### Import"
   ]
  },
  {
   "cell_type": "code",
   "execution_count": 2,
   "metadata": {},
   "outputs": [],
   "source": [
    "from dtw import dtw\n",
    "import time\n",
    "import librosa\n",
    "import librosa.display\n",
    "from scipy.spatial.distance import cdist\n",
    "import pandas as pd\n",
    "import tqdm\n",
    "from numpy.linalg import norm"
   ]
  },
  {
   "cell_type": "markdown",
   "metadata": {},
   "source": [
    "### 데이터 로드 및 전처리(MFCC)"
   ]
  },
  {
   "cell_type": "code",
   "execution_count": 7,
   "metadata": {},
   "outputs": [],
   "source": [
    "y1, sr1 = librosa.load('data/5_jackson_1.wav')\n",
    "y2, sr2 = librosa.load('data/6_jackson_6.wav')"
   ]
  },
  {
   "cell_type": "code",
   "execution_count": 9,
   "metadata": {},
   "outputs": [],
   "source": [
    "# 정규화 함수\n",
    "# to_mfcc에서 사용\n",
    "def _normalize(S):\n",
    "    min_level_db= -100\n",
    "    return np.clip((S - min_level_db) / -min_level_db, 0, 1)\n",
    "\n",
    "# mfcc 변환 함수\n",
    "# mfcc값을 리턴\n",
    "\n",
    "def to_mfcc(y, sr):\n",
    "    S = librosa.core.stft(y, n_fft=1024, hop_length=512, win_length=1024)\n",
    "    D = np.abs(S)**2\n",
    "    mel_basis = librosa.filters.mel(sr, 1024, n_mels=40)\n",
    "    mel_S = np.dot(mel_basis, D)\n",
    "    log_mel_S = librosa.power_to_db(mel_S)\n",
    "    S = librosa.feature.melspectrogram(y, sr=sr, n_mels = 128)\n",
    "    log_S = librosa.power_to_db(S, ref=np.max)\n",
    "    mfcc = librosa.feature.mfcc(S=log_mel_S, n_mfcc=32)\n",
    "    mfcc = mfcc.astype(np.float32)\n",
    "    mfcc = _normalize(mfcc)\n",
    "    \n",
    "    return mfcc"
   ]
  },
  {
   "cell_type": "code",
   "execution_count": 10,
   "metadata": {},
   "outputs": [
    {
     "name": "stdout",
     "output_type": "stream",
     "text": [
      "Populating the interactive namespace from numpy and matplotlib\n"
     ]
    },
    {
     "data": {
      "text/plain": [
       "<matplotlib.collections.QuadMesh at 0x23ccdf2c448>"
      ]
     },
     "execution_count": 10,
     "metadata": {},
     "output_type": "execute_result"
    },
    {
     "data": {
      "image/png": "[encoded data removed]",
      "text/plain": [
       "<Figure size 432x288 with 2 Axes>"
      ]
     },
     "metadata": {},
     "output_type": "display_data"
    }
   ],
   "source": [
    "%pylab inline\n",
    "subplot(1, 2, 1)\n",
    "#mfcc1 = librosa.feature.mfcc(y1, sr1)\n",
    "mfcc1 = to_mfcc(y1,sr1)\n",
    "librosa.display.specshow(mfcc1)\n",
    "\n",
    "subplot(1, 2, 2)\n",
    "#mfcc2 = librosa.feature.mfcc(y2, sr2)\n",
    "mfcc2 = to_mfcc(y2,sr2)\n",
    "librosa.display.specshow(mfcc2)"
   ]
  },
  {
   "cell_type": "markdown",
   "metadata": {},
   "source": [
    "### dtw 호출"
   ]
  },
  {
   "cell_type": "code",
   "execution_count": 12,
   "metadata": {},
   "outputs": [
    {
     "name": "stdout",
     "output_type": "stream",
     "text": [
      "Normalized distance between the two sounds: 0.47004913582521324\n"
     ]
    }
   ],
   "source": [
    "dist, cost, acc_cost, path = dtw(mfcc1.T, mfcc2.T, dist=lambda x, y: norm(x - y, ord=1))\n",
    "print('Normalized distance between the two sounds:', dist)"
   ]
  },
  {
   "cell_type": "code",
   "execution_count": null,
   "metadata": {},
   "outputs": [],
   "source": []
  },
  {
   "cell_type": "code",
   "execution_count": null,
   "metadata": {},
   "outputs": [],
   "source": []
  }
 ],
 "metadata": {
  "kernelspec": {
   "display_name": "Python 3",
   "language": "python",
   "name": "python3"
  },
  "language_info": {
   "codemirror_mode": {
    "name": "ipython",
    "version": 3
   },
   "file_extension": ".py",
   "mimetype": "text/x-python",
   "name": "python",
   "nbconvert_exporter": "python",
   "pygments_lexer": "ipython3",
   "version": "3.7.9"
  }
 },
 "nbformat": 4,
 "nbformat_minor": 4
}
